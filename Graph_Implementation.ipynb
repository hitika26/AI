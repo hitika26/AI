{
 "cells": [
  {
   "cell_type": "code",
   "execution_count": null,
   "metadata": {},
   "outputs": [],
   "source": [
    "graph = {1: [3,4],\n",
    "         2: [1,3],\n",
    "         3: [5],\n",
    "         4: [3,5],\n",
    "         5: [None],\n",
    "        }"
   ]
  },
  {
   "cell_type": "code",
   "execution_count": 1,
   "metadata": {},
   "outputs": [],
   "source": [
    "def add_node():\n",
    "    print(\"Enter node to be added\")\n",
    "    nodeval = int(input())\n",
    "    for node in graph:\n",
    "        for neighbour in graph[node]:\n",
    "            if nodeval not in graph:\n",
    "                print(\"Enter the nodes to be connected with new node\")\n",
    "                val=list(map(int,input().split()))\n",
    "                graph[nodeval]=val\n",
    "                print(graph)\n",
    "                return graph\n",
    "            else:\n",
    "                print(\"It cannot be inserted\")\n",
    "            "
   ]
  },
  {
   "cell_type": "code",
   "execution_count": 2,
   "metadata": {},
   "outputs": [],
   "source": [
    "def delete_node():\n",
    "    print(\"Enter node to delete\")\n",
    "    delnode = int(input())\n",
    "    for node1 in graph:\n",
    "        for neighbour1 in graph[node1]:\n",
    "            if neighbour1 in graph:\n",
    "                if neighbour1 == delnode:\n",
    "                    graph[node1].remove(neighbour1)\n",
    "    if delnode in graph:\n",
    "        del graph[delnode]\n",
    "        print(graph)\n",
    "    else:\n",
    "        print(\"Does not exist\")\n",
    "        quit()        "
   ]
  },
  {
   "cell_type": "code",
   "execution_count": 3,
   "metadata": {},
   "outputs": [],
   "source": [
    "def display():\n",
    "    print(graph)"
   ]
  },
  {
   "cell_type": "code",
   "execution_count": 4,
   "metadata": {},
   "outputs": [],
   "source": [
    "def add_edge():\n",
    "    print(\"Enter node where an edge should be added\")\n",
    "    edge = int(input())\n",
    "    print(\"Enter the value of edge that need to be added\")\n",
    "    edge_val = int(input())\n",
    "    if edge and edge_val in graph:\n",
    "        if edge_val not in graph[edge]:\n",
    "            graph[edge1].append(edge_val)\n",
    "        print(graph)\n",
    "    elif edge in graph:\n",
    "        if edge_val not in graph[edge]:\n",
    "            graph[edge].append(edge_val)\n",
    "            graph[edge_val] = []\n",
    "            print(graph)\n",
    "        else:\n",
    "            print(\"val exist\")\n",
    "\n",
    "    else:\n",
    "        print(\"Node does not exist\")"
   ]
  },
  {
   "cell_type": "code",
   "execution_count": 5,
   "metadata": {},
   "outputs": [],
   "source": [
    "def del_edge():\n",
    "    print(\"Enter the node from which edge to be deleted\")\n",
    "    del1 = int(input())\n",
    "    print(\"Enter the val of edge to be deleted\")\n",
    "    del_val = int(input())\n",
    "    for n in graph:\n",
    "        for neighbour2 in graph[n]:\n",
    "            if del1 in graph and del_val in graph[del1]:\n",
    "                graph[del1].remove(del_val)\n",
    "                print(graph)\n",
    "            else:\n",
    "                print(\"This  node is not present into the graph\")\n",
    "                quit()"
   ]
  },
  {
   "cell_type": "code",
   "execution_count": 6,
   "metadata": {},
   "outputs": [],
   "source": [
    "#def exit():\n",
    " #   sys.exit()"
   ]
  },
  {
   "cell_type": "code",
   "execution_count": 7,
   "metadata": {},
   "outputs": [
    {
     "name": "stdout",
     "output_type": "stream",
     "text": [
      "Press 1 to add a node\n",
      "Press 2 to delete a node\n",
      "Press 3 to display a graph\n",
      "Press 4 to add an edge to a node\n",
      "Press 5 to delete an edge\n",
      "Press 6 to exit\n",
      "1\n",
      "Enter node to be added\n",
      "1\n"
     ]
    },
    {
     "ename": "NameError",
     "evalue": "name 'graph' is not defined",
     "output_type": "error",
     "traceback": [
      "\u001b[1;31m---------------------------------------------------------------------------\u001b[0m",
      "\u001b[1;31mNameError\u001b[0m                                 Traceback (most recent call last)",
      "\u001b[1;32m<ipython-input-7-100be8c2c1e8>\u001b[0m in \u001b[0;36m<module>\u001b[1;34m()\u001b[0m\n\u001b[0;32m     17\u001b[0m     \u001b[0mSelection\u001b[0m \u001b[1;33m=\u001b[0m \u001b[0mint\u001b[0m\u001b[1;33m(\u001b[0m\u001b[0minput\u001b[0m\u001b[1;33m(\u001b[0m\u001b[1;33m)\u001b[0m\u001b[1;33m)\u001b[0m\u001b[1;33m\u001b[0m\u001b[0m\n\u001b[0;32m     18\u001b[0m     \u001b[1;32mif\u001b[0m \u001b[1;33m(\u001b[0m\u001b[0mSelection\u001b[0m\u001b[1;33m>\u001b[0m\u001b[1;36m0\u001b[0m\u001b[1;33m)\u001b[0m \u001b[1;32mand\u001b[0m \u001b[1;33m(\u001b[0m\u001b[0mSelection\u001b[0m\u001b[1;33m<\u001b[0m\u001b[1;36m7\u001b[0m\u001b[1;33m)\u001b[0m\u001b[1;33m:\u001b[0m\u001b[1;33m\u001b[0m\u001b[0m\n\u001b[1;32m---> 19\u001b[1;33m         \u001b[0mSwitchdict\u001b[0m\u001b[1;33m[\u001b[0m\u001b[0mSelection\u001b[0m\u001b[1;33m]\u001b[0m \u001b[1;33m(\u001b[0m\u001b[1;33m)\u001b[0m\u001b[1;33m\u001b[0m\u001b[0m\n\u001b[0m",
      "\u001b[1;32m<ipython-input-1-ba0cbb9d1a78>\u001b[0m in \u001b[0;36madd_node\u001b[1;34m()\u001b[0m\n\u001b[0;32m      2\u001b[0m     \u001b[0mprint\u001b[0m\u001b[1;33m(\u001b[0m\u001b[1;34m\"Enter node to be added\"\u001b[0m\u001b[1;33m)\u001b[0m\u001b[1;33m\u001b[0m\u001b[0m\n\u001b[0;32m      3\u001b[0m     \u001b[0mnodeval\u001b[0m \u001b[1;33m=\u001b[0m \u001b[0mint\u001b[0m\u001b[1;33m(\u001b[0m\u001b[0minput\u001b[0m\u001b[1;33m(\u001b[0m\u001b[1;33m)\u001b[0m\u001b[1;33m)\u001b[0m\u001b[1;33m\u001b[0m\u001b[0m\n\u001b[1;32m----> 4\u001b[1;33m     \u001b[1;32mfor\u001b[0m \u001b[0mnode\u001b[0m \u001b[1;32min\u001b[0m \u001b[0mgraph\u001b[0m\u001b[1;33m:\u001b[0m\u001b[1;33m\u001b[0m\u001b[0m\n\u001b[0m\u001b[0;32m      5\u001b[0m         \u001b[1;32mfor\u001b[0m \u001b[0mneighbour\u001b[0m \u001b[1;32min\u001b[0m \u001b[0mgraph\u001b[0m\u001b[1;33m[\u001b[0m\u001b[0mnode\u001b[0m\u001b[1;33m]\u001b[0m\u001b[1;33m:\u001b[0m\u001b[1;33m\u001b[0m\u001b[0m\n\u001b[0;32m      6\u001b[0m             \u001b[1;32mif\u001b[0m \u001b[0mnodeval\u001b[0m \u001b[1;32mnot\u001b[0m \u001b[1;32min\u001b[0m \u001b[0mgraph\u001b[0m\u001b[1;33m:\u001b[0m\u001b[1;33m\u001b[0m\u001b[0m\n",
      "\u001b[1;31mNameError\u001b[0m: name 'graph' is not defined"
     ]
    }
   ],
   "source": [
    "Switchdict = {\n",
    "    1: add_node,\n",
    "    2: delete_node,\n",
    "    3: display,\n",
    "    4: add_edge,\n",
    "    5: del_edge\n",
    "  #  6: exit()\n",
    "}\n",
    "Selection =0\n",
    "while(Selection !=7):\n",
    "    print(\"Press 1 to add a node\")\n",
    "    print(\"Press 2 to delete a node\")\n",
    "    print(\"Press 3 to display a graph\")\n",
    "    print(\"Press 4 to add an edge to a node\")\n",
    "    print(\"Press 5 to delete an edge\")\n",
    "    print(\"Press 6 to exit\")\n",
    "    Selection = int(input())\n",
    "    if (Selection>0) and (Selection<7):\n",
    "        Switchdict[Selection] ()"
   ]
  },
  {
   "cell_type": "code",
   "execution_count": null,
   "metadata": {},
   "outputs": [],
   "source": []
  }
 ],
 "metadata": {
  "kernelspec": {
   "display_name": "Python 3",
   "language": "python",
   "name": "python3"
  },
  "language_info": {
   "codemirror_mode": {
    "name": "ipython",
    "version": 3
   },
   "file_extension": ".py",
   "mimetype": "text/x-python",
   "name": "python",
   "nbconvert_exporter": "python",
   "pygments_lexer": "ipython3",
   "version": "3.7.0"
  }
 },
 "nbformat": 4,
 "nbformat_minor": 2
}
